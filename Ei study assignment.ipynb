{
 "cells": [
  {
   "cell_type": "code",
   "execution_count": 1,
   "id": "3eb4470d",
   "metadata": {},
   "outputs": [
    {
     "name": "stdout",
     "output_type": "stream",
     "text": [
      "Enter the quantity of laptops 3\n",
      "Do you want to update the quantity of Laptop? (yes/no): no\n",
      "Enter the quantity of headphones4\n",
      "Do you want to update the quantity of Headphones? (yes/no): yes\n",
      "Enter the new quantity for Headphones: 8\n",
      "Cart Items:\n",
      "- 3 x Laptop\n",
      "- 8 x Headphones\n",
      "Total Bill:\n",
      "- Total Price: $3400.00\n"
     ]
    }
   ],
   "source": [
    "class Product:\n",
    "    def __init__(self, name, price, available):\n",
    "        self.name = name\n",
    "        self.price = price\n",
    "        self.available = available\n",
    "\n",
    "class CartItem:\n",
    "    def __init__(self, product, quantity):\n",
    "        self.product = product\n",
    "        self.quantity = quantity\n",
    "\n",
    "class Cart:\n",
    "    def __init__(self):\n",
    "        self.items = []\n",
    "        self.total_price = 0\n",
    "\n",
    "    def add_item(self, cart_item):\n",
    "        self.items.append(cart_item)\n",
    "        self.update_total_price()\n",
    "\n",
    "        update_choice = input(f\"Do you want to update the quantity of {cart_item.product.name}? (yes/no): \")\n",
    "        if update_choice.lower() == 'yes':\n",
    "            new_quantity = int(input(f\"Enter the new quantity for {cart_item.product.name}: \"))\n",
    "            self.update_quantity(cart_item.product, new_quantity)\n",
    "\n",
    "    def update_quantity(self, product, new_quantity):\n",
    "        cart_item = next((item for item in self.items if item.product == product), None)\n",
    "        if cart_item:\n",
    "            cart_item.quantity = new_quantity\n",
    "            self.update_total_price()\n",
    "        else:\n",
    "            print(f\"Product {product.name} not found in the cart.\")\n",
    "\n",
    "    def remove_item(self, product):\n",
    "        self.items = [item for item in self.items if item.product != product]\n",
    "        self.update_total_price()\n",
    "\n",
    "    def view_cart(self):\n",
    "        print(\"Cart Items:\")\n",
    "        for cart_item in self.items:\n",
    "            print(f\"- {cart_item.quantity} x {cart_item.product.name}\")\n",
    "        print(\"Total Bill:\")\n",
    "        print(f\"- Total Price: ${self.total_price:.2f}\")\n",
    "\n",
    "    def update_total_price(self):\n",
    "        self.total_price = sum(item.product.price * item.quantity for item in self.items)\n",
    "\n",
    "if __name__ == \"__main__\":\n",
    "    products = [\n",
    "        Product(\"Laptop\", 1000, True),\n",
    "        Product(\"Headphones\", 50, True)\n",
    "    ]\n",
    "\n",
    "    cart = Cart()\n",
    "\n",
    "    laptop_quantity = int(input(\"Enter the quantity of laptops \"))\n",
    "    laptop_item = CartItem(products[0], laptop_quantity)\n",
    "    cart.add_item(laptop_item)\n",
    "\n",
    "    headphones_quantity = int(input(\"Enter the quantity of headphones\"))\n",
    "    headphones_item = CartItem(products[1], headphones_quantity)\n",
    "    cart.add_item(headphones_item)\n",
    "\n",
    "    cart.view_cart()\n"
   ]
  },
  {
   "cell_type": "code",
   "execution_count": null,
   "id": "3e2d340e",
   "metadata": {},
   "outputs": [],
   "source": []
  }
 ],
 "metadata": {
  "kernelspec": {
   "display_name": "Python 3 (ipykernel)",
   "language": "python",
   "name": "python3"
  },
  "language_info": {
   "codemirror_mode": {
    "name": "ipython",
    "version": 3
   },
   "file_extension": ".py",
   "mimetype": "text/x-python",
   "name": "python",
   "nbconvert_exporter": "python",
   "pygments_lexer": "ipython3",
   "version": "3.9.7"
  }
 },
 "nbformat": 4,
 "nbformat_minor": 5
}
